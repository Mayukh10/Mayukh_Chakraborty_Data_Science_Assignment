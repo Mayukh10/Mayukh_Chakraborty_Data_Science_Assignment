{
  "nbformat": 4,
  "nbformat_minor": 0,
  "metadata": {
    "colab": {
      "provenance": []
    },
    "kernelspec": {
      "name": "python3",
      "display_name": "Python 3"
    },
    "language_info": {
      "name": "python"
    }
  },
  "cells": [
    {
      "cell_type": "markdown",
      "source": [
        "Lookalike Model\n"
      ],
      "metadata": {
        "id": "GHSaO-Vz8TPj"
      }
    },
    {
      "cell_type": "code",
      "execution_count": 1,
      "metadata": {
        "colab": {
          "base_uri": "https://localhost:8080/"
        },
        "id": "5yReQWzry8HI",
        "outputId": "0d59be1e-1387-4ae7-a3d8-c3dd7dcfe95c"
      },
      "outputs": [
        {
          "output_type": "stream",
          "name": "stdout",
          "text": [
            "  CustomerID        CustomerName         Region  SignupDate\n",
            "0      C0001    Lawrence Carroll  South America  2022-07-10\n",
            "1      C0002      Elizabeth Lutz           Asia  2022-02-13\n",
            "2      C0003      Michael Rivera  South America  2024-03-07\n",
            "3      C0004  Kathleen Rodriguez  South America  2022-10-09\n",
            "4      C0005         Laura Weber           Asia  2022-08-15\n",
            "  TransactionID CustomerID ProductID      TransactionDate  Quantity  \\\n",
            "0        T00001      C0199      P067  2024-08-25 12:38:23         1   \n",
            "1        T00112      C0146      P067  2024-05-27 22:23:54         1   \n",
            "2        T00166      C0127      P067  2024-04-25 07:38:55         1   \n",
            "3        T00272      C0087      P067  2024-03-26 22:55:37         2   \n",
            "4        T00363      C0070      P067  2024-03-21 15:10:10         3   \n",
            "\n",
            "   TotalValue   Price  \n",
            "0      300.68  300.68  \n",
            "1      300.68  300.68  \n",
            "2      300.68  300.68  \n",
            "3      601.36  300.68  \n",
            "4      902.04  300.68  \n"
          ]
        }
      ],
      "source": [
        "import pandas as pd\n",
        "\n",
        "\n",
        "customers = pd.read_csv(\"Customers.csv\")\n",
        "transactions = pd.read_csv(\"Transactions.csv\")\n",
        "print(customers.head())\n",
        "print(transactions.head())\n"
      ]
    },
    {
      "cell_type": "code",
      "source": [
        "data = pd.merge(customers, transactions, on=\"CustomerID\", how=\"inner\")\n",
        "print(data.head())\n"
      ],
      "metadata": {
        "colab": {
          "base_uri": "https://localhost:8080/"
        },
        "id": "VG3f94TvzJwT",
        "outputId": "9cd5087f-4c21-4d48-b947-910dcc860640"
      },
      "execution_count": 2,
      "outputs": [
        {
          "output_type": "stream",
          "name": "stdout",
          "text": [
            "  CustomerID      CustomerName         Region  SignupDate TransactionID  \\\n",
            "0      C0001  Lawrence Carroll  South America  2022-07-10        T00015   \n",
            "1      C0001  Lawrence Carroll  South America  2022-07-10        T00932   \n",
            "2      C0001  Lawrence Carroll  South America  2022-07-10        T00085   \n",
            "3      C0001  Lawrence Carroll  South America  2022-07-10        T00445   \n",
            "4      C0001  Lawrence Carroll  South America  2022-07-10        T00436   \n",
            "\n",
            "  ProductID      TransactionDate  Quantity  TotalValue   Price  \n",
            "0      P054  2024-01-19 03:12:55         2      114.60   57.30  \n",
            "1      P022  2024-09-17 09:01:18         3      412.62  137.54  \n",
            "2      P096  2024-04-08 00:01:00         2      614.94  307.47  \n",
            "3      P083  2024-05-07 03:11:44         2      911.44  455.72  \n",
            "4      P029  2024-11-02 17:04:16         3     1300.92  433.64  \n"
          ]
        }
      ]
    },
    {
      "cell_type": "code",
      "source": [
        "selected_features = ['CustomerID', 'CustomerName', 'Region', 'SignupDate', 'Quantity']\n",
        "data = data[selected_features]\n"
      ],
      "metadata": {
        "id": "TVt9zl-9zQHo"
      },
      "execution_count": 5,
      "outputs": []
    },
    {
      "cell_type": "code",
      "source": [
        "data = pd.get_dummies(data, columns=['Region', 'SignupDate'], drop_first=True)\n"
      ],
      "metadata": {
        "id": "lZ-KVQX1z3RU"
      },
      "execution_count": 6,
      "outputs": []
    },
    {
      "cell_type": "code",
      "source": [
        "from sklearn.preprocessing import StandardScaler\n",
        "\n",
        "numerical_cols = ['Quantity']\n",
        "scaler = StandardScaler()\n",
        "data[numerical_cols] = scaler.fit_transform(data[numerical_cols])\n"
      ],
      "metadata": {
        "id": "iRIdKhMU0JD6"
      },
      "execution_count": 15,
      "outputs": []
    },
    {
      "cell_type": "code",
      "source": [
        "print(data.head())\n"
      ],
      "metadata": {
        "colab": {
          "base_uri": "https://localhost:8080/"
        },
        "id": "wD-VPgwG1YjU",
        "outputId": "19ff34cf-6c23-45be-9ed3-130c112b0411"
      },
      "execution_count": 16,
      "outputs": [
        {
          "output_type": "stream",
          "name": "stdout",
          "text": [
            "  CustomerID      CustomerName  Quantity  Region_Europe  Region_North America  \\\n",
            "0      C0001  Lawrence Carroll -0.480571          False                 False   \n",
            "1      C0001  Lawrence Carroll  0.414347          False                 False   \n",
            "2      C0001  Lawrence Carroll -0.480571          False                 False   \n",
            "3      C0001  Lawrence Carroll -0.480571          False                 False   \n",
            "4      C0001  Lawrence Carroll  0.414347          False                 False   \n",
            "\n",
            "   Region_South America  SignupDate_2022-02-02  SignupDate_2022-02-10  \\\n",
            "0                  True                  False                  False   \n",
            "1                  True                  False                  False   \n",
            "2                  True                  False                  False   \n",
            "3                  True                  False                  False   \n",
            "4                  True                  False                  False   \n",
            "\n",
            "   SignupDate_2022-02-13  SignupDate_2022-02-19  ...  SignupDate_2024-10-23  \\\n",
            "0                  False                  False  ...                  False   \n",
            "1                  False                  False  ...                  False   \n",
            "2                  False                  False  ...                  False   \n",
            "3                  False                  False  ...                  False   \n",
            "4                  False                  False  ...                  False   \n",
            "\n",
            "   SignupDate_2024-10-27  SignupDate_2024-11-01  SignupDate_2024-11-07  \\\n",
            "0                  False                  False                  False   \n",
            "1                  False                  False                  False   \n",
            "2                  False                  False                  False   \n",
            "3                  False                  False                  False   \n",
            "4                  False                  False                  False   \n",
            "\n",
            "   SignupDate_2024-11-11  SignupDate_2024-11-13  SignupDate_2024-11-15  \\\n",
            "0                  False                  False                  False   \n",
            "1                  False                  False                  False   \n",
            "2                  False                  False                  False   \n",
            "3                  False                  False                  False   \n",
            "4                  False                  False                  False   \n",
            "\n",
            "   SignupDate_2024-11-18  SignupDate_2024-11-22  SignupDate_2024-12-28  \n",
            "0                  False                  False                  False  \n",
            "1                  False                  False                  False  \n",
            "2                  False                  False                  False  \n",
            "3                  False                  False                  False  \n",
            "4                  False                  False                  False  \n",
            "\n",
            "[5 rows x 183 columns]\n"
          ]
        }
      ]
    },
    {
      "cell_type": "code",
      "source": [
        "customer_features = data.drop(columns=['CustomerID'])\n"
      ],
      "metadata": {
        "id": "umIqNCyA1gHd"
      },
      "execution_count": 17,
      "outputs": []
    },
    {
      "cell_type": "code",
      "source": [
        "print(customer_features.dtypes)\n"
      ],
      "metadata": {
        "colab": {
          "base_uri": "https://localhost:8080/"
        },
        "id": "0nNkMmUb16mh",
        "outputId": "7244a965-5021-4e7a-f410-297cede0a394"
      },
      "execution_count": 19,
      "outputs": [
        {
          "output_type": "stream",
          "name": "stdout",
          "text": [
            "CustomerName              object\n",
            "Quantity                 float64\n",
            "Region_Europe               bool\n",
            "Region_North America        bool\n",
            "Region_South America        bool\n",
            "                          ...   \n",
            "SignupDate_2024-11-13       bool\n",
            "SignupDate_2024-11-15       bool\n",
            "SignupDate_2024-11-18       bool\n",
            "SignupDate_2024-11-22       bool\n",
            "SignupDate_2024-12-28       bool\n",
            "Length: 182, dtype: object\n"
          ]
        }
      ]
    },
    {
      "cell_type": "code",
      "source": [
        "customer_features = customer_features.select_dtypes(include=['float64', 'int64'])\n"
      ],
      "metadata": {
        "id": "SWNmqJH-1_7L"
      },
      "execution_count": 20,
      "outputs": []
    },
    {
      "cell_type": "code",
      "source": [
        "customer_features = pd.get_dummies(customer_features, drop_first=True)\n"
      ],
      "metadata": {
        "id": "X5ZkwYO-2Cal"
      },
      "execution_count": 21,
      "outputs": []
    },
    {
      "cell_type": "code",
      "source": [
        "from sklearn.metrics.pairwise import cosine_similarity\n",
        "\n",
        "similarity_matrix = cosine_similarity(customer_features)\n"
      ],
      "metadata": {
        "id": "lUYHwnMU2E9C"
      },
      "execution_count": 22,
      "outputs": []
    },
    {
      "cell_type": "code",
      "source": [
        "\n",
        "customer_features = customer_features.select_dtypes(include=['float64', 'int64'])\n",
        "\n",
        "\n",
        "customer_features = pd.get_dummies(customer_features, drop_first=True)\n",
        "\n",
        "similarity_matrix = cosine_similarity(customer_features)\n"
      ],
      "metadata": {
        "id": "5ix6UDcT2J7F"
      },
      "execution_count": 23,
      "outputs": []
    },
    {
      "cell_type": "code",
      "source": [
        "similarity_df = pd.DataFrame(similarity_matrix, index=data['CustomerID'], columns=data['CustomerID'])\n",
        "print(similarity_df.head())\n"
      ],
      "metadata": {
        "colab": {
          "base_uri": "https://localhost:8080/"
        },
        "id": "czm27dte2O4Z",
        "outputId": "654d6d8b-c06e-4744-933a-dca95e49be9b"
      },
      "execution_count": 43,
      "outputs": [
        {
          "output_type": "stream",
          "name": "stdout",
          "text": [
            "CustomerID  C0001  C0001  C0001  C0001  C0001  C0002  C0002  C0002  C0002  \\\n",
            "CustomerID                                                                  \n",
            "C0001         1.0   -1.0    1.0    1.0   -1.0    1.0   -1.0    1.0    1.0   \n",
            "C0001        -1.0    1.0   -1.0   -1.0    1.0   -1.0    1.0   -1.0   -1.0   \n",
            "C0001         1.0   -1.0    1.0    1.0   -1.0    1.0   -1.0    1.0    1.0   \n",
            "C0001         1.0   -1.0    1.0    1.0   -1.0    1.0   -1.0    1.0    1.0   \n",
            "C0001        -1.0    1.0   -1.0   -1.0    1.0   -1.0    1.0   -1.0   -1.0   \n",
            "\n",
            "CustomerID  C0003  ...  C0198  C0199  C0199  C0199  C0199  C0200  C0200  \\\n",
            "CustomerID         ...                                                    \n",
            "C0001        -1.0  ...    1.0    1.0   -1.0    1.0    1.0   -1.0    1.0   \n",
            "C0001         1.0  ...   -1.0   -1.0    1.0   -1.0   -1.0    1.0   -1.0   \n",
            "C0001        -1.0  ...    1.0    1.0   -1.0    1.0    1.0   -1.0    1.0   \n",
            "C0001        -1.0  ...    1.0    1.0   -1.0    1.0    1.0   -1.0    1.0   \n",
            "C0001         1.0  ...   -1.0   -1.0    1.0   -1.0   -1.0    1.0   -1.0   \n",
            "\n",
            "CustomerID  C0200  C0200  C0200  \n",
            "CustomerID                       \n",
            "C0001        -1.0   -1.0   -1.0  \n",
            "C0001         1.0    1.0    1.0  \n",
            "C0001        -1.0   -1.0   -1.0  \n",
            "C0001        -1.0   -1.0   -1.0  \n",
            "C0001         1.0    1.0    1.0  \n",
            "\n",
            "[5 rows x 1000 columns]\n"
          ]
        }
      ]
    },
    {
      "cell_type": "code",
      "source": [
        "target_customers = data['CustomerID'][:20]\n"
      ],
      "metadata": {
        "id": "qDHED6h82S4a"
      },
      "execution_count": 44,
      "outputs": []
    },
    {
      "cell_type": "code",
      "source": [
        "similar_customers = similarity_df[customer].sort_index(ascending=False)[1:4]  # Exclude self (highest score)"
      ],
      "metadata": {
        "id": "H49JBE4l7haA"
      },
      "execution_count": 67,
      "outputs": []
    },
    {
      "cell_type": "code",
      "source": [
        "lookalike_map = {}\n",
        "\n",
        "for customer in target_customers:\n",
        "\n",
        "    similar_customers = similarity_df[customer].sort_index(ascending=False)[1:4]\n",
        "\n",
        "\n",
        "    lookalike_map[customer] = [{'CustomerID': cust_id, 'Score': score}\n",
        "                               for cust_id, score in zip(similar_customers.index, similar_customers.values)]\n",
        "\n",
        "\n",
        "lookalike_list = []\n",
        "\n",
        "for customer, lookalikes in lookalike_map.items():\n",
        "    heir top 3 lookalikes\n",
        "    for idx, lookalike in enumerate(lookalikes):\n",
        "        lookalike_list.append([customer, idx+1, lookalike['CustomerID'], lookalike['Score']])\n",
        "\n",
        "\n",
        "lookalike_df = pd.DataFrame(lookalike_list, columns=['CustomerID', 'Rank', 'LookalikeCustomerID', 'SimilarityScore'])\n",
        "\n",
        "# Save to CSV\n",
        "lookalike_df.to_csv(\"Lookalike.csv\", index=False)\n"
      ],
      "metadata": {
        "id": "-vi7TCw98EYp"
      },
      "execution_count": 68,
      "outputs": []
    }
  ]
}